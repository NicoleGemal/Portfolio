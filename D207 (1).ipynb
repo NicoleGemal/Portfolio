{
 "cells": [
  {
   "cell_type": "code",
   "execution_count": 10,
   "id": "8f9201b5",
   "metadata": {
    "scrolled": true
   },
   "outputs": [
    {
     "name": "stdout",
     "output_type": "stream",
     "text": [
      "   CaseOrder Customer_id                           Interaction  \\\n",
      "0          1     K409198  aa90260b-4141-4a24-8e36-b04ce1f4f77b   \n",
      "1          2     S120509  fb76459f-c047-4a9d-8af9-e0f7d4ac2524   \n",
      "2          3     K191035  344d114c-3736-4be5-98f7-c72c281e2d35   \n",
      "3          4      D90850  abfa2b40-2d43-4994-b15a-989b8c79e311   \n",
      "4          5     K662701  68a861fd-0d20-4e51-a587-8a90407ee574   \n",
      "\n",
      "                                UID         City State                 County  \\\n",
      "0  e885b299883d4f9fb18e39c75155d990  Point Baker    AK  Prince of Wales-Hyder   \n",
      "1  f2de8bef964785f41a2959829830fb8a  West Branch    MI                 Ogemaw   \n",
      "2  f1784cfa9f6d92ae816197eb175d3c71      Yamhill    OR                Yamhill   \n",
      "3  dc8a365077241bb5cd5ccd305136b05e      Del Mar    CA              San Diego   \n",
      "4  aabb64a116e83fdc4befc1fbab1663f9    Needville    TX              Fort Bend   \n",
      "\n",
      "     Zip       Lat        Lng  ...  MonthlyCharge Bandwidth_GB_Year Item1  \\\n",
      "0  99927  56.25100 -133.37571  ...     172.455519        904.536110     5   \n",
      "1  48661  44.32893  -84.24080  ...     242.632554        800.982766     3   \n",
      "2  97148  45.35589 -123.24657  ...     159.947583       2054.706961     4   \n",
      "3  92014  32.96687 -117.24798  ...     119.956840       2164.579412     4   \n",
      "4  77461  29.38012  -95.80673  ...     149.948316        271.493436     4   \n",
      "\n",
      "  Item2  Item3  Item4  Item5 Item6 Item7 Item8  \n",
      "0     5      5      3      4     4     3     4  \n",
      "1     4      3      3      4     3     4     4  \n",
      "2     4      2      4      4     3     3     3  \n",
      "3     4      4      2      5     4     3     3  \n",
      "4     4      4      3      4     4     4     5  \n",
      "\n",
      "[5 rows x 50 columns]\n"
     ]
    }
   ],
   "source": [
    "import pandas as pd\n",
    "from scipy import stats\n",
    "\n",
    "#uploading the csv\n",
    "\n",
    "churn = pd.read_csv(r'C:\\Users\\abram\\Downloads\\churn_clean.csv')\n",
    "print(churn.head())"
   ]
  },
  {
   "cell_type": "code",
   "execution_count": 19,
   "id": "a10d4c3f",
   "metadata": {},
   "outputs": [
    {
     "data": {
      "text/plain": [
       "count     10000\n",
       "unique        2\n",
       "top          No\n",
       "freq       7350\n",
       "Name: Churn, dtype: object"
      ]
     },
     "execution_count": 19,
     "metadata": {},
     "output_type": "execute_result"
    }
   ],
   "source": [
    "churn['Churn'].describe()"
   ]
  },
  {
   "cell_type": "code",
   "execution_count": 11,
   "id": "06fc8253",
   "metadata": {},
   "outputs": [
    {
     "name": "stdout",
     "output_type": "stream",
     "text": [
      "Contract  Month-to-month  One year  Two Year\n",
      "Churn                                       \n",
      "No                  3422      1795      2133\n",
      "Yes                 2034       307       309\n"
     ]
    }
   ],
   "source": [
    "#creating the crosstab\n",
    "table=pd.crosstab(churn.Churn, churn.Contract)\n",
    "print(table)"
   ]
  },
  {
   "cell_type": "code",
   "execution_count": 1,
   "id": "80f67f1e",
   "metadata": {
    "scrolled": true
   },
   "outputs": [
    {
     "name": "stdout",
     "output_type": "stream",
     "text": [
      "p value is 9.116348157571405e-157\n",
      "The relationship is not due to chance (reject null hypothesis)\n"
     ]
    }
   ],
   "source": [
    "from scipy.stats import chi2_contingency\n",
    "\n",
    "# defining the table\n",
    "data = [[3422,1795,2133], [2034,307,309]]\n",
    "stat, p, dof, expected = chi2_contingency(data)\n",
    "\n",
    "# interpret p-value\n",
    "alpha = 0.05\n",
    "print(\"p value is \" + str(p))\n",
    "if p <= alpha:\n",
    "\tprint('The relationship is not due to chance (reject null hypothesis)')\n",
    "else:\n",
    "\tprint('Independent (Null hypothesis holds true)')\n"
   ]
  }
 ],
 "metadata": {
  "kernelspec": {
   "display_name": "Python 3 (ipykernel)",
   "language": "python",
   "name": "python3"
  },
  "language_info": {
   "codemirror_mode": {
    "name": "ipython",
    "version": 3
   },
   "file_extension": ".py",
   "mimetype": "text/x-python",
   "name": "python",
   "nbconvert_exporter": "python",
   "pygments_lexer": "ipython3",
   "version": "3.11.3"
  }
 },
 "nbformat": 4,
 "nbformat_minor": 5
}
