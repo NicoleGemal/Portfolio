{
 "cells": [
  {
   "cell_type": "markdown",
   "id": "88c50e2b",
   "metadata": {},
   "source": [
    "# Part II- Data Cleaning Plan"
   ]
  },
  {
   "cell_type": "code",
   "execution_count": 65,
   "id": "93516d18",
   "metadata": {},
   "outputs": [
    {
     "name": "stdout",
     "output_type": "stream",
     "text": [
      "   Unnamed: 0  CaseOrder Customer_id                           Interaction  \\\n",
      "0           1          1     K409198  aa90260b-4141-4a24-8e36-b04ce1f4f77b   \n",
      "1           2          2     S120509  fb76459f-c047-4a9d-8af9-e0f7d4ac2524   \n",
      "2           3          3     K191035  344d114c-3736-4be5-98f7-c72c281e2d35   \n",
      "3           4          4      D90850  abfa2b40-2d43-4994-b15a-989b8c79e311   \n",
      "4           5          5     K662701  68a861fd-0d20-4e51-a587-8a90407ee574   \n",
      "\n",
      "          City State                 County    Zip       Lat        Lng  ...  \\\n",
      "0  Point Baker    AK  Prince of Wales-Hyder  99927  56.25100 -133.37571  ...   \n",
      "1  West Branch    MI  Prince of Wales-Hyder  48661  44.32893  -84.24080  ...   \n",
      "2      Yamhill    OR  Prince of Wales-Hyder  97148  45.35589 -123.24657  ...   \n",
      "3      Del Mar    CA  Prince of Wales-Hyder  92014  32.96687 -117.24798  ...   \n",
      "4    Needville    TX  Prince of Wales-Hyder  77461  29.38012  -95.80673  ...   \n",
      "\n",
      "   MonthlyCharge Bandwidth_GB_Year item1 item2  item3  item4 item5 item6  \\\n",
      "0     171.449762        904.536110     5     5      5      3     4     4   \n",
      "1     242.948015        800.982766     3     4      3      3     4     3   \n",
      "2     159.440398       2054.706961     4     4      2      4     4     3   \n",
      "3     120.249493       2164.579412     4     4      4      2     5     4   \n",
      "4     150.761216        271.493436     4     4      4      3     4     4   \n",
      "\n",
      "   item7 item8  \n",
      "0      3     4  \n",
      "1      4     4  \n",
      "2      3     3  \n",
      "3      3     3  \n",
      "4      4     5  \n",
      "\n",
      "[5 rows x 52 columns]\n"
     ]
    }
   ],
   "source": [
    "import pandas as pd\n",
    "import numpy as np\n",
    "import matplotlib.pyplot as plt\n",
    "import seaborn as sns\n",
    "\n",
    "churn = pd.read_csv(r'C:\\Users\\abram\\Downloads\\churn_raw.csv')\n",
    "print(churn.head())"
   ]
  },
  {
   "cell_type": "code",
   "execution_count": 66,
   "id": "aa4e1f6d",
   "metadata": {},
   "outputs": [
    {
     "name": "stdout",
     "output_type": "stream",
     "text": [
      "Unnamed: 0                int64\n",
      "CaseOrder                 int64\n",
      "Customer_id              object\n",
      "Interaction              object\n",
      "City                     object\n",
      "State                    object\n",
      "County                   object\n",
      "Zip                       int64\n",
      "Lat                     float64\n",
      "Lng                     float64\n",
      "Population                int64\n",
      "Area                     object\n",
      "Timezone                 object\n",
      "Job                      object\n",
      "Children                float64\n",
      "Age                     float64\n",
      "Education                object\n",
      "Employment               object\n",
      "Income                  float64\n",
      "Marital                  object\n",
      "Gender                   object\n",
      "Churn                    object\n",
      "Outage_sec_perweek      float64\n",
      "Email                     int64\n",
      "Contacts                  int64\n",
      "Yearly_equip_failure      int64\n",
      "Techie                   object\n",
      "Contract                 object\n",
      "Port_modem               object\n",
      "Tablet                   object\n",
      "InternetService          object\n",
      "Phone                    object\n",
      "Multiple                 object\n",
      "OnlineSecurity           object\n",
      "OnlineBackup             object\n",
      "DeviceProtection         object\n",
      "TechSupport              object\n",
      "StreamingTV              object\n",
      "StreamingMovies          object\n",
      "PaperlessBilling         object\n",
      "PaymentMethod            object\n",
      "Tenure                  float64\n",
      "MonthlyCharge           float64\n",
      "Bandwidth_GB_Year       float64\n",
      "item1                     int64\n",
      "item2                     int64\n",
      "item3                     int64\n",
      "item4                     int64\n",
      "item5                     int64\n",
      "item6                     int64\n",
      "item7                     int64\n",
      "item8                     int64\n",
      "dtype: object\n"
     ]
    }
   ],
   "source": [
    "#check data types\n",
    "print(churn.dtypes)\n",
    "\n",
    "#Noticings: Monthly charge needs to be rounded to 2 decimal places, appears to be errors of duplication under \"County\"\n",
    "#Below: Zip should be string, children should be integer, maybe age too?"
   ]
  },
  {
   "cell_type": "code",
   "execution_count": 67,
   "id": "39a5bbcd",
   "metadata": {},
   "outputs": [
    {
     "name": "stdout",
     "output_type": "stream",
     "text": [
      "(10000, 52)\n"
     ]
    }
   ],
   "source": [
    "print(churn.shape)"
   ]
  },
  {
   "cell_type": "code",
   "execution_count": 68,
   "id": "3be3b429",
   "metadata": {},
   "outputs": [
    {
     "name": "stdout",
     "output_type": "stream",
     "text": [
      "7\n",
      "7\n",
      "8\n",
      "7\n",
      "7\n",
      "8\n",
      "7\n",
      "8\n",
      "1\n",
      "1\n",
      "1\n",
      "1\n",
      "1\n",
      "1\n",
      "1\n",
      "1\n"
     ]
    }
   ],
   "source": [
    "#Check if all items 1-8 are within the expected range\n",
    "\n",
    "print (max(churn['item1']))\n",
    "print (max(churn['item2']))\n",
    "print (max(churn['item3']))\n",
    "print (max(churn['item4']))\n",
    "print (max(churn['item5']))\n",
    "print (max(churn['item6']))\n",
    "print (max(churn['item7']))\n",
    "print (max(churn['item8']))\n",
    "\n",
    "print (min(churn['item1']))\n",
    "print (min(churn['item2']))\n",
    "print (min(churn['item3']))\n",
    "print (min(churn['item4']))\n",
    "print (min(churn['item5']))\n",
    "print (min(churn['item6']))\n",
    "print (min(churn['item7']))\n",
    "print (min(churn['item8']))"
   ]
  },
  {
   "cell_type": "code",
   "execution_count": 69,
   "id": "48170f27",
   "metadata": {},
   "outputs": [
    {
     "name": "stdout",
     "output_type": "stream",
     "text": [
      "<class 'pandas.core.frame.DataFrame'>\n",
      "RangeIndex: 10000 entries, 0 to 9999\n",
      "Data columns (total 52 columns):\n",
      " #   Column                Non-Null Count  Dtype  \n",
      "---  ------                --------------  -----  \n",
      " 0   Unnamed: 0            10000 non-null  int64  \n",
      " 1   CaseOrder             10000 non-null  int64  \n",
      " 2   Customer_id           10000 non-null  object \n",
      " 3   Interaction           10000 non-null  object \n",
      " 4   City                  10000 non-null  object \n",
      " 5   State                 10000 non-null  object \n",
      " 6   County                10000 non-null  object \n",
      " 7   Zip                   10000 non-null  int64  \n",
      " 8   Lat                   10000 non-null  float64\n",
      " 9   Lng                   10000 non-null  float64\n",
      " 10  Population            10000 non-null  int64  \n",
      " 11  Area                  10000 non-null  object \n",
      " 12  Timezone              10000 non-null  object \n",
      " 13  Job                   10000 non-null  object \n",
      " 14  Children              7505 non-null   float64\n",
      " 15  Age                   7525 non-null   float64\n",
      " 16  Education             10000 non-null  object \n",
      " 17  Employment            10000 non-null  object \n",
      " 18  Income                7510 non-null   float64\n",
      " 19  Marital               10000 non-null  object \n",
      " 20  Gender                10000 non-null  object \n",
      " 21  Churn                 10000 non-null  object \n",
      " 22  Outage_sec_perweek    10000 non-null  float64\n",
      " 23  Email                 10000 non-null  int64  \n",
      " 24  Contacts              10000 non-null  int64  \n",
      " 25  Yearly_equip_failure  10000 non-null  int64  \n",
      " 26  Techie                7523 non-null   object \n",
      " 27  Contract              10000 non-null  object \n",
      " 28  Port_modem            10000 non-null  object \n",
      " 29  Tablet                10000 non-null  object \n",
      " 30  InternetService       10000 non-null  object \n",
      " 31  Phone                 8974 non-null   object \n",
      " 32  Multiple              10000 non-null  object \n",
      " 33  OnlineSecurity        10000 non-null  object \n",
      " 34  OnlineBackup          10000 non-null  object \n",
      " 35  DeviceProtection      10000 non-null  object \n",
      " 36  TechSupport           9009 non-null   object \n",
      " 37  StreamingTV           10000 non-null  object \n",
      " 38  StreamingMovies       10000 non-null  object \n",
      " 39  PaperlessBilling      10000 non-null  object \n",
      " 40  PaymentMethod         10000 non-null  object \n",
      " 41  Tenure                9069 non-null   float64\n",
      " 42  MonthlyCharge         10000 non-null  float64\n",
      " 43  Bandwidth_GB_Year     8979 non-null   float64\n",
      " 44  item1                 10000 non-null  int64  \n",
      " 45  item2                 10000 non-null  int64  \n",
      " 46  item3                 10000 non-null  int64  \n",
      " 47  item4                 10000 non-null  int64  \n",
      " 48  item5                 10000 non-null  int64  \n",
      " 49  item6                 10000 non-null  int64  \n",
      " 50  item7                 10000 non-null  int64  \n",
      " 51  item8                 10000 non-null  int64  \n",
      "dtypes: float64(9), int64(15), object(28)\n",
      "memory usage: 4.0+ MB\n",
      "None\n"
     ]
    }
   ],
   "source": [
    "#check for nulls\n",
    "print(churn.info())"
   ]
  },
  {
   "cell_type": "code",
   "execution_count": 70,
   "id": "dc1f7159",
   "metadata": {},
   "outputs": [
    {
     "name": "stdout",
     "output_type": "stream",
     "text": [
      "0       Prince of Wales-Hyder\n",
      "1       Prince of Wales-Hyder\n",
      "2       Prince of Wales-Hyder\n",
      "3       Prince of Wales-Hyder\n",
      "4       Prince of Wales-Hyder\n",
      "                ...          \n",
      "9995    Prince of Wales-Hyder\n",
      "9996    Prince of Wales-Hyder\n",
      "9997    Prince of Wales-Hyder\n",
      "9998    Prince of Wales-Hyder\n",
      "9999    Prince of Wales-Hyder\n",
      "Name: County, Length: 10000, dtype: object\n"
     ]
    },
    {
     "data": {
      "text/plain": [
       "<function matplotlib.pyplot.show(close=None, block=None)>"
      ]
     },
     "execution_count": 70,
     "metadata": {},
     "output_type": "execute_result"
    },
    {
     "data": {
      "image/png": "[encoded data removed]",
      "text/plain": [
       "<Figure size 640x480 with 1 Axes>"
      ]
     },
     "metadata": {},
     "output_type": "display_data"
    }
   ],
   "source": [
    "#to get more info on the County column\n",
    "\n",
    "print(churn['County'])\n",
    "\n",
    "countyx= churn['County']\n",
    "plt.hist(countyx)\n",
    "plt.show"
   ]
  },
  {
   "cell_type": "code",
   "execution_count": 71,
   "id": "762e7a4c",
   "metadata": {},
   "outputs": [
    {
     "data": {
      "text/plain": [
       "count    10000.000000\n",
       "mean       174.076305\n",
       "std         43.335473\n",
       "min         77.505230\n",
       "25%        141.071078\n",
       "50%        169.915400\n",
       "75%        203.777441\n",
       "max        315.878600\n",
       "Name: MonthlyCharge, dtype: float64"
      ]
     },
     "execution_count": 71,
     "metadata": {},
     "output_type": "execute_result"
    }
   ],
   "source": [
    "#to see if rounding is needed for monthlycharge\n",
    "\n",
    "churn['MonthlyCharge'].describe()"
   ]
  },
  {
   "cell_type": "code",
   "execution_count": 72,
   "id": "8773abeb",
   "metadata": {},
   "outputs": [
    {
     "data": {
      "text/plain": [
       "count         10000\n",
       "unique            5\n",
       "top       Full Time\n",
       "freq           5992\n",
       "Name: Employment, dtype: object"
      ]
     },
     "execution_count": 72,
     "metadata": {},
     "output_type": "execute_result"
    }
   ],
   "source": [
    "#exploring employment\n",
    "churn[\"Employment\"].describe()"
   ]
  },
  {
   "cell_type": "code",
   "execution_count": 73,
   "id": "9b2a54c7",
   "metadata": {},
   "outputs": [
    {
     "data": {
      "text/plain": [
       "<function matplotlib.pyplot.show(close=None, block=None)>"
      ]
     },
     "execution_count": 73,
     "metadata": {},
     "output_type": "execute_result"
    },
    {
     "data": {
      "image/png": "[encoded data removed]",
      "text/plain": [
       "<Figure size 640x480 with 1 Axes>"
      ]
     },
     "metadata": {},
     "output_type": "display_data"
    }
   ],
   "source": [
    "#exploring a bit more bc of only 5 unique. But seeing the histogram, it makes sense.\n",
    "xemp = churn['Employment']\n",
    "plt.hist(xemp)\n",
    "plt.show"
   ]
  },
  {
   "cell_type": "code",
   "execution_count": 74,
   "id": "0de8f97d",
   "metadata": {},
   "outputs": [
    {
     "name": "stdout",
     "output_type": "stream",
     "text": [
      "0        6.795513\n",
      "1        1.156681\n",
      "2       15.754144\n",
      "3       17.087227\n",
      "4        1.670972\n",
      "          ...    \n",
      "9995    68.197130\n",
      "9996    61.040370\n",
      "9997          NaN\n",
      "9998    71.095600\n",
      "9999    63.350860\n",
      "Name: Tenure, Length: 10000, dtype: float64\n",
      "0       28561.99\n",
      "1       21704.77\n",
      "2            NaN\n",
      "3       18925.23\n",
      "4       40074.19\n",
      "          ...   \n",
      "9995    55723.74\n",
      "9996         NaN\n",
      "9997         NaN\n",
      "9998    16667.58\n",
      "9999         NaN\n",
      "Name: Income, Length: 10000, dtype: float64\n"
     ]
    }
   ],
   "source": [
    "#exploring Tenure and Income\n",
    "print(churn[\"Tenure\"])\n",
    "print(churn[\"Income\"])"
   ]
  },
  {
   "cell_type": "code",
   "execution_count": 75,
   "id": "a5e85728",
   "metadata": {},
   "outputs": [
    {
     "data": {
      "text/plain": [
       "<function matplotlib.pyplot.show(close=None, block=None)>"
      ]
     },
     "execution_count": 75,
     "metadata": {},
     "output_type": "execute_result"
    },
    {
     "data": {
      "image/png": "[encoded data removed]",
      "text/plain": [
       "<Figure size 640x480 with 1 Axes>"
      ]
     },
     "metadata": {},
     "output_type": "display_data"
    }
   ],
   "source": [
    "#Because children is float64, checking that it's all integers\n",
    "\n",
    "xchil = churn['Children']\n",
    "plt.hist(xchil,40)\n",
    "plt.show\n",
    "\n",
    "#the notch before 10 stands for null, so all integers"
   ]
  },
  {
   "cell_type": "code",
   "execution_count": 76,
   "id": "17e3ba6c",
   "metadata": {},
   "outputs": [
    {
     "data": {
      "text/plain": [
       "count    7505.000000\n",
       "mean        2.095936\n",
       "std         2.154758\n",
       "min         0.000000\n",
       "25%         0.000000\n",
       "50%         1.000000\n",
       "75%         3.000000\n",
       "max        10.000000\n",
       "Name: Children, dtype: float64"
      ]
     },
     "execution_count": 76,
     "metadata": {},
     "output_type": "execute_result"
    }
   ],
   "source": [
    "#exploring children more \n",
    "\n",
    "churn['Children'].describe()"
   ]
  },
  {
   "cell_type": "code",
   "execution_count": 77,
   "id": "b0fda8ad",
   "metadata": {},
   "outputs": [
    {
     "data": {
      "text/plain": [
       "0       False\n",
       "1       False\n",
       "2       False\n",
       "3       False\n",
       "4       False\n",
       "        ...  \n",
       "9995    False\n",
       "9996    False\n",
       "9997    False\n",
       "9998    False\n",
       "9999    False\n",
       "Length: 10000, dtype: bool"
      ]
     },
     "execution_count": 77,
     "metadata": {},
     "output_type": "execute_result"
    }
   ],
   "source": [
    "#detect duplicates\n",
    "\n",
    "churn.duplicated()"
   ]
  },
  {
   "cell_type": "code",
   "execution_count": 78,
   "id": "020345dc",
   "metadata": {},
   "outputs": [
    {
     "name": "stdout",
     "output_type": "stream",
     "text": [
      "False    10000\n",
      "dtype: int64\n"
     ]
    }
   ],
   "source": [
    "print(churn.duplicated().value_counts())\n",
    "\n",
    "#we see no duplicated rows"
   ]
  },
  {
   "cell_type": "code",
   "execution_count": 79,
   "id": "2f9cb2a3",
   "metadata": {},
   "outputs": [
    {
     "data": {
      "text/plain": [
       "Unnamed: 0                 0\n",
       "CaseOrder                  0\n",
       "Customer_id                0\n",
       "Interaction                0\n",
       "City                       0\n",
       "State                      0\n",
       "County                     0\n",
       "Zip                        0\n",
       "Lat                        0\n",
       "Lng                        0\n",
       "Population                 0\n",
       "Area                       0\n",
       "Timezone                   0\n",
       "Job                        0\n",
       "Children                2495\n",
       "Age                     2475\n",
       "Education                  0\n",
       "Employment                 0\n",
       "Income                  2490\n",
       "Marital                    0\n",
       "Gender                     0\n",
       "Churn                      0\n",
       "Outage_sec_perweek         0\n",
       "Email                      0\n",
       "Contacts                   0\n",
       "Yearly_equip_failure       0\n",
       "Techie                  2477\n",
       "Contract                   0\n",
       "Port_modem                 0\n",
       "Tablet                     0\n",
       "InternetService            0\n",
       "Phone                   1026\n",
       "Multiple                   0\n",
       "OnlineSecurity             0\n",
       "OnlineBackup               0\n",
       "DeviceProtection           0\n",
       "TechSupport              991\n",
       "StreamingTV                0\n",
       "StreamingMovies            0\n",
       "PaperlessBilling           0\n",
       "PaymentMethod              0\n",
       "Tenure                   931\n",
       "MonthlyCharge              0\n",
       "Bandwidth_GB_Year       1021\n",
       "item1                      0\n",
       "item2                      0\n",
       "item3                      0\n",
       "item4                      0\n",
       "item5                      0\n",
       "item6                      0\n",
       "item7                      0\n",
       "item8                      0\n",
       "dtype: int64"
      ]
     },
     "execution_count": 79,
     "metadata": {},
     "output_type": "execute_result"
    }
   ],
   "source": [
    "#detecting Nulls\n",
    "\n",
    "churn.isnull().sum()"
   ]
  },
  {
   "cell_type": "code",
   "execution_count": 80,
   "id": "88836cbb",
   "metadata": {},
   "outputs": [
    {
     "data": {
      "text/plain": [
       "<function matplotlib.pyplot.show(close=None, block=None)>"
      ]
     },
     "execution_count": 80,
     "metadata": {},
     "output_type": "execute_result"
    },
    {
     "data": {
      "image/png": "[encoded data removed]",
      "text/plain": [
       "<Figure size 640x480 with 1 Axes>"
      ]
     },
     "metadata": {},
     "output_type": "display_data"
    }
   ],
   "source": [
    "#Exploring income\n",
    "\n",
    "xincome = churn[\"Income\"]\n",
    "plt.hist(xincome, bins=420)\n",
    "plt.show\n",
    "\n",
    "#you can see the extreme outliers on the right side"
   ]
  },
  {
   "cell_type": "code",
   "execution_count": 81,
   "id": "96fc75f7",
   "metadata": {},
   "outputs": [
    {
     "name": "stdout",
     "output_type": "stream",
     "text": [
      "0       28561.99\n",
      "1       21704.77\n",
      "2            NaN\n",
      "3       18925.23\n",
      "4       40074.19\n",
      "          ...   \n",
      "9995    55723.74\n",
      "9996         NaN\n",
      "9997         NaN\n",
      "9998    16667.58\n",
      "9999         NaN\n",
      "Name: Income, Length: 10000, dtype: float64\n"
     ]
    },
    {
     "data": {
      "text/plain": [
       "count      7510.000000\n",
       "mean      39936.762226\n",
       "std       28358.469482\n",
       "min         740.660000\n",
       "25%       19285.522500\n",
       "50%       33186.785000\n",
       "75%       53472.395000\n",
       "max      258900.700000\n",
       "Name: Income, dtype: float64"
      ]
     },
     "execution_count": 81,
     "metadata": {},
     "output_type": "execute_result"
    }
   ],
   "source": [
    "#more exploring income look at important statistical points\n",
    "print(churn[\"Income\"])\n",
    "churn['Income'].describe()"
   ]
  },
  {
   "cell_type": "code",
   "execution_count": 82,
   "id": "88face1e",
   "metadata": {},
   "outputs": [
    {
     "data": {
      "image/png": "[encoded data removed]",
      "text/plain": [
       "<Figure size 640x480 with 1 Axes>"
      ]
     },
     "metadata": {},
     "output_type": "display_data"
    }
   ],
   "source": [
    "boxplot=sns.boxplot(x='Income',data=churn)\n",
    "#while this plot indicates a number of outliers, they are all reasonable income levels, therefore I will leave them and impute the median for the nan values"
   ]
  },
  {
   "cell_type": "code",
   "execution_count": 83,
   "id": "a97fdb99",
   "metadata": {},
   "outputs": [
    {
     "data": {
      "image/png": "[encoded data removed]",
      "text/plain": [
       "<Figure size 640x480 with 1 Axes>"
      ]
     },
     "metadata": {},
     "output_type": "display_data"
    }
   ],
   "source": [
    "boxplot=sns.boxplot(x='Bandwidth_GB_Year',data=churn)\n",
    "#no outliers, looks like a normal distribution. Going to look at the stats"
   ]
  },
  {
   "cell_type": "code",
   "execution_count": 84,
   "id": "ff54095f",
   "metadata": {},
   "outputs": [
    {
     "data": {
      "text/plain": [
       "count    8979.000000\n",
       "mean     3398.842752\n",
       "std      2187.396807\n",
       "min       155.506715\n",
       "25%      1234.110529\n",
       "50%      3382.424000\n",
       "75%      5587.096500\n",
       "max      7158.982000\n",
       "Name: Bandwidth_GB_Year, dtype: float64"
      ]
     },
     "execution_count": 84,
     "metadata": {},
     "output_type": "execute_result"
    }
   ],
   "source": [
    "churn['Bandwidth_GB_Year'].describe()"
   ]
  },
  {
   "cell_type": "code",
   "execution_count": 85,
   "id": "9b5bd198",
   "metadata": {},
   "outputs": [
    {
     "name": "stdout",
     "output_type": "stream",
     "text": [
      "0        No\n",
      "1       Yes\n",
      "2       Yes\n",
      "3       Yes\n",
      "4        No\n",
      "       ... \n",
      "9995    NaN\n",
      "9996    NaN\n",
      "9997     No\n",
      "9998     No\n",
      "9999    NaN\n",
      "Name: Techie, Length: 10000, dtype: object\n"
     ]
    },
    {
     "data": {
      "text/plain": [
       "count     7523\n",
       "unique       2\n",
       "top         No\n",
       "freq      6266\n",
       "Name: Techie, dtype: object"
      ]
     },
     "execution_count": 85,
     "metadata": {},
     "output_type": "execute_result"
    }
   ],
   "source": [
    "#Printing to determine what the responses look like in the \"techie\" column\n",
    "\n",
    "print(churn['Techie'])\n",
    "churn['Techie'].describe()\n",
    "\n",
    "#From this I can see there are only Yes and No answers so no worries about recategorizing responses"
   ]
  },
  {
   "cell_type": "code",
   "execution_count": 86,
   "id": "ba35f26c",
   "metadata": {},
   "outputs": [
    {
     "name": "stdout",
     "output_type": "stream",
     "text": [
      "0       Yes\n",
      "1       Yes\n",
      "2       Yes\n",
      "3       Yes\n",
      "4        No\n",
      "       ... \n",
      "9995    NaN\n",
      "9996    NaN\n",
      "9997    Yes\n",
      "9998     No\n",
      "9999    Yes\n",
      "Name: Phone, Length: 10000, dtype: object\n"
     ]
    },
    {
     "data": {
      "text/plain": [
       "count     8974\n",
       "unique       2\n",
       "top        Yes\n",
       "freq      8128\n",
       "Name: Phone, dtype: object"
      ]
     },
     "execution_count": 86,
     "metadata": {},
     "output_type": "execute_result"
    }
   ],
   "source": [
    "#Printing to determine what the responses look like in the \"Phone\" column\n",
    "\n",
    "print(churn['Phone'])\n",
    "churn['Phone'].describe()\n",
    "\n",
    "#From this I can see there are only Yes and No answers so no worries about recategorizing responses"
   ]
  },
  {
   "cell_type": "code",
   "execution_count": 87,
   "id": "eed37786",
   "metadata": {},
   "outputs": [
    {
     "data": {
      "text/plain": [
       "count    9069.000000\n",
       "mean       34.498858\n",
       "std        26.438904\n",
       "min         1.000259\n",
       "25%         7.890442\n",
       "50%        36.196030\n",
       "75%        61.426670\n",
       "max        71.999280\n",
       "Name: Tenure, dtype: float64"
      ]
     },
     "execution_count": 87,
     "metadata": {},
     "output_type": "execute_result"
    }
   ],
   "source": [
    "#Inspecting Tenure answer types\n",
    "churn['Tenure'].describe()"
   ]
  },
  {
   "cell_type": "code",
   "execution_count": 88,
   "id": "8dc86158",
   "metadata": {},
   "outputs": [
    {
     "name": "stdout",
     "output_type": "stream",
     "text": [
      "0     6.795513\n",
      "1     1.156681\n",
      "2    15.754144\n",
      "3    17.087227\n",
      "4     1.670972\n",
      "Name: Tenure, dtype: float64\n"
     ]
    }
   ],
   "source": [
    "print(churn['Tenure'].head())"
   ]
  },
  {
   "cell_type": "code",
   "execution_count": 89,
   "id": "664e3dbf",
   "metadata": {},
   "outputs": [
    {
     "data": {
      "text/plain": [
       "<function matplotlib.pyplot.show(close=None, block=None)>"
      ]
     },
     "execution_count": 89,
     "metadata": {},
     "output_type": "execute_result"
    },
    {
     "data": {
      "image/png": "[encoded data removed]",
      "text/plain": [
       "<Figure size 640x480 with 1 Axes>"
      ]
     },
     "metadata": {},
     "output_type": "display_data"
    }
   ],
   "source": [
    "xtenure = churn[\"Tenure\"]\n",
    "plt.hist(xtenure)\n",
    "plt.show\n",
    "\n",
    "#this almost looks like the inverse of a normal distribution"
   ]
  },
  {
   "cell_type": "code",
   "execution_count": 90,
   "id": "a01cc40e",
   "metadata": {},
   "outputs": [
    {
     "data": {
      "image/png": "[encoded data removed]",
      "text/plain": [
       "<Figure size 640x480 with 1 Axes>"
      ]
     },
     "metadata": {},
     "output_type": "display_data"
    }
   ],
   "source": [
    "boxplot1=sns.boxplot(x='Tenure',data=churn)"
   ]
  },
  {
   "cell_type": "code",
   "execution_count": 91,
   "id": "acd07b8e",
   "metadata": {},
   "outputs": [
    {
     "data": {
      "text/plain": [
       "count     10000\n",
       "unique        2\n",
       "top          No\n",
       "freq       7350\n",
       "Name: Churn, dtype: object"
      ]
     },
     "execution_count": 91,
     "metadata": {},
     "output_type": "execute_result"
    }
   ],
   "source": [
    "churn['Churn'].describe()"
   ]
  },
  {
   "cell_type": "code",
   "execution_count": 92,
   "id": "65751b60",
   "metadata": {},
   "outputs": [
    {
     "data": {
      "image/png": "[encoded data removed]",
      "text/plain": [
       "<Figure size 640x480 with 1 Axes>"
      ]
     },
     "metadata": {},
     "output_type": "display_data"
    }
   ],
   "source": [
    "#checking for outliers\n",
    "boxplot2=sns.boxplot(x='MonthlyCharge',data=churn)\n",
    "\n",
    "#There are outliers in the upper range but are reasonably monthly charges so will leave them\n"
   ]
  },
  {
   "cell_type": "code",
   "execution_count": 93,
   "id": "a00a599a",
   "metadata": {},
   "outputs": [
    {
     "data": {
      "text/plain": [
       "count    10000.000000\n",
       "mean        11.452955\n",
       "std          7.025921\n",
       "min         -1.348571\n",
       "25%          8.054362\n",
       "50%         10.202896\n",
       "75%         12.487644\n",
       "max         47.049280\n",
       "Name: Outage_sec_perweek, dtype: float64"
      ]
     },
     "execution_count": 93,
     "metadata": {},
     "output_type": "execute_result"
    },
    {
     "data": {
      "image/png": "[encoded data removed]",
      "text/plain": [
       "<Figure size 640x480 with 1 Axes>"
      ]
     },
     "metadata": {},
     "output_type": "display_data"
    }
   ],
   "source": [
    "#Exploring Outage_sec_perweek\n",
    "\n",
    "boxplot3=sns.boxplot(x='Outage_sec_perweek',data=churn)\n",
    "churn['Outage_sec_perweek'].describe()\n",
    "# the upper outliers can be legitimate but anything less than 0 must be an error"
   ]
  },
  {
   "cell_type": "code",
   "execution_count": null,
   "id": "86b94346",
   "metadata": {},
   "outputs": [],
   "source": [
    "#The box plot looks like it has negatives, so checking to confirm these values and how many\n",
    "\n",
    "neg_outage = churn.loc[churn['Outage_sec_perweek'] <0]\n",
    "\n"
   ]
  },
  {
   "cell_type": "code",
   "execution_count": 94,
   "id": "19381363",
   "metadata": {},
   "outputs": [
    {
     "data": {
      "image/png": "[encoded data removed]",
      "text/plain": [
       "<Figure size 640x480 with 1 Axes>"
      ]
     },
     "metadata": {},
     "output_type": "display_data"
    }
   ],
   "source": [
    "#explore email column\n",
    "\n",
    "boxplot4=sns.boxplot(x='Email',data=churn)\n",
    "\n",
    "#these outliers look reasonable"
   ]
  },
  {
   "cell_type": "code",
   "execution_count": 95,
   "id": "c50eeff8",
   "metadata": {},
   "outputs": [
    {
     "data": {
      "image/png": "[encoded data removed]",
      "text/plain": [
       "<Figure size 640x480 with 1 Axes>"
      ]
     },
     "metadata": {},
     "output_type": "display_data"
    }
   ],
   "source": [
    "#explore contacts column\n",
    "\n",
    "boxplot5=sns.boxplot(x='Contacts',data=churn)\n",
    "#again, reasonable"
   ]
  },
  {
   "cell_type": "code",
   "execution_count": 96,
   "id": "48cc21e1",
   "metadata": {},
   "outputs": [
    {
     "data": {
      "image/png": "[encoded data removed]",
      "text/plain": [
       "<Figure size 640x480 with 1 Axes>"
      ]
     },
     "metadata": {},
     "output_type": "display_data"
    }
   ],
   "source": [
    "#explore yearly equip failure column\n",
    "\n",
    "boxplot5=sns.boxplot(x='Yearly_equip_failure',data=churn)\n",
    "#reasonable although 6 is unfortunate"
   ]
  },
  {
   "cell_type": "markdown",
   "id": "e545fd85",
   "metadata": {},
   "source": [
    "# Part III- Data Cleaning"
   ]
  },
  {
   "cell_type": "code",
   "execution_count": 97,
   "id": "839a6e65",
   "metadata": {},
   "outputs": [],
   "source": [
    "#fix zip data type\n",
    "churn['Zip']= churn['Zip'].astype('str')"
   ]
  },
  {
   "cell_type": "code",
   "execution_count": 98,
   "id": "08682682",
   "metadata": {},
   "outputs": [
    {
     "name": "stdout",
     "output_type": "stream",
     "text": [
      "   Unnamed: 0  CaseOrder Customer_id                           Interaction  \\\n",
      "0           1          1     K409198  aa90260b-4141-4a24-8e36-b04ce1f4f77b   \n",
      "1           2          2     S120509  fb76459f-c047-4a9d-8af9-e0f7d4ac2524   \n",
      "2           3          3     K191035  344d114c-3736-4be5-98f7-c72c281e2d35   \n",
      "3           4          4      D90850  abfa2b40-2d43-4994-b15a-989b8c79e311   \n",
      "4           5          5     K662701  68a861fd-0d20-4e51-a587-8a90407ee574   \n",
      "\n",
      "          City State    Zip       Lat        Lng  Population  ...  \\\n",
      "0  Point Baker    AK  99927  56.25100 -133.37571          38  ...   \n",
      "1  West Branch    MI  48661  44.32893  -84.24080       10446  ...   \n",
      "2      Yamhill    OR  97148  45.35589 -123.24657        3735  ...   \n",
      "3      Del Mar    CA  92014  32.96687 -117.24798       13863  ...   \n",
      "4    Needville    TX  77461  29.38012  -95.80673       11352  ...   \n",
      "\n",
      "  MonthlyCharge Bandwidth_GB_Year item1  item2  item3 item4 item5  item6  \\\n",
      "0    171.449762        904.536110     5      5      5     3     4      4   \n",
      "1    242.948015        800.982766     3      4      3     3     4      3   \n",
      "2    159.440398       2054.706961     4      4      2     4     4      3   \n",
      "3    120.249493       2164.579412     4      4      4     2     5      4   \n",
      "4    150.761216        271.493436     4      4      4     3     4      4   \n",
      "\n",
      "  item7 item8  \n",
      "0     3     4  \n",
      "1     4     4  \n",
      "2     3     3  \n",
      "3     3     3  \n",
      "4     4     5  \n",
      "\n",
      "[5 rows x 51 columns]\n"
     ]
    },
    {
     "name": "stderr",
     "output_type": "stream",
     "text": [
      "C:\\Users\\abram\\AppData\\Local\\Temp\\ipykernel_30724\\129426451.py:2: FutureWarning: In a future version of pandas all arguments of DataFrame.drop except for the argument 'labels' will be keyword-only.\n",
      "  churn = churn.drop(['County'],1)\n"
     ]
    }
   ],
   "source": [
    "#drop county column\n",
    "churn = churn.drop(['County'],1)\n",
    "print (churn.head())"
   ]
  },
  {
   "cell_type": "code",
   "execution_count": 99,
   "id": "1faa2fb2",
   "metadata": {},
   "outputs": [
    {
     "data": {
      "text/plain": [
       "count    10000.000000\n",
       "mean       174.076302\n",
       "std         43.335462\n",
       "min         77.510000\n",
       "25%        141.070000\n",
       "50%        169.915000\n",
       "75%        203.780000\n",
       "max        315.880000\n",
       "Name: MonthlyCharge, dtype: float64"
      ]
     },
     "execution_count": 99,
     "metadata": {},
     "output_type": "execute_result"
    }
   ],
   "source": [
    "#Rounded Monthy Charge Amount to actual Monthly Charge\n",
    "churn[\"MonthlyCharge\"]=churn[\"MonthlyCharge\"].round(2)\n",
    "churn['MonthlyCharge'].describe()"
   ]
  },
  {
   "cell_type": "code",
   "execution_count": 100,
   "id": "9636ffe4",
   "metadata": {},
   "outputs": [
    {
     "data": {
      "text/plain": [
       "count    7525.000000\n",
       "mean       53.275748\n",
       "std        20.753928\n",
       "min        18.000000\n",
       "25%        35.000000\n",
       "50%        53.000000\n",
       "75%        71.000000\n",
       "max        89.000000\n",
       "Name: Age, dtype: float64"
      ]
     },
     "execution_count": 100,
     "metadata": {},
     "output_type": "execute_result"
    },
    {
     "data": {
      "image/png": "[encoded data removed]",
      "text/plain": [
       "<Figure size 640x480 with 1 Axes>"
      ]
     },
     "metadata": {},
     "output_type": "display_data"
    }
   ],
   "source": [
    "#Exploring age to determine remediation of NaNs.\n",
    "xage = churn[\"Age\"]\n",
    "plt.hist(xage)\n",
    "plt.show\n",
    "\n",
    "churn['Age'].describe()"
   ]
  },
  {
   "cell_type": "code",
   "execution_count": 101,
   "id": "72d0d4e7",
   "metadata": {},
   "outputs": [
    {
     "data": {
      "text/plain": [
       "count    10000.000000\n",
       "mean        53.207500\n",
       "std         18.003457\n",
       "min         18.000000\n",
       "25%         41.000000\n",
       "50%         53.000000\n",
       "75%         65.000000\n",
       "max         89.000000\n",
       "Name: Age, dtype: float64"
      ]
     },
     "execution_count": 101,
     "metadata": {},
     "output_type": "execute_result"
    }
   ],
   "source": [
    "#Fill NAN Age values with median of 53\n",
    "\n",
    "churn[\"Age\"].fillna(\"53\", inplace = True)\n",
    "churn['Age']=churn['Age'].astype('int')\n",
    "churn['Age'].describe()"
   ]
  },
  {
   "cell_type": "code",
   "execution_count": 102,
   "id": "5963694d",
   "metadata": {},
   "outputs": [
    {
     "data": {
      "text/plain": [
       "count    10000.000000\n",
       "mean         1.573000\n",
       "std          2.075356\n",
       "min          0.000000\n",
       "25%          0.000000\n",
       "50%          1.000000\n",
       "75%          3.000000\n",
       "max         10.000000\n",
       "Name: Children, dtype: float64"
      ]
     },
     "execution_count": 102,
     "metadata": {},
     "output_type": "execute_result"
    }
   ],
   "source": [
    "#Fill Children NaN values with zero based on assumption that blank meant no children\n",
    "churn[\"Children\"].fillna(\"0\", inplace = True)\n",
    "\n",
    "churn['Children']=churn['Children'].astype('int')\n",
    "\n",
    "churn['Children'].describe()\n",
    "\n",
    "#Comparing to above, it is clear that while the mean changed significantly, it rounds to the same whole number, which is how\n",
    "#children are measured. The standard deviation did not change significantly, and the 25th, 50th, and 75th percentiles\n",
    "#remained the same with this imputing of zero. Hence, it was a statistically sound imputation."
   ]
  },
  {
   "cell_type": "code",
   "execution_count": 104,
   "id": "e1934e09",
   "metadata": {},
   "outputs": [],
   "source": [
    "#Fill NaN Income values with median and reinstate data type\n",
    "churn[\"Income\"].fillna(\"33186.79\", inplace = True)\n",
    "\n",
    "churn['Income']=churn['Income'].astype('float64')"
   ]
  },
  {
   "cell_type": "code",
   "execution_count": 105,
   "id": "3d58af18",
   "metadata": {},
   "outputs": [
    {
     "data": {
      "text/plain": [
       "count     10000.000000\n",
       "mean      38256.019142\n",
       "std       24747.872506\n",
       "min         740.660000\n",
       "25%       23660.790000\n",
       "50%       33186.790000\n",
       "75%       45504.192500\n",
       "max      258900.700000\n",
       "Name: Income, dtype: float64"
      ]
     },
     "execution_count": 105,
     "metadata": {},
     "output_type": "execute_result"
    }
   ],
   "source": [
    "#Checking that it worked, and looking at impact on statistical values\n",
    "\n",
    "churn['Income'].describe()"
   ]
  },
  {
   "cell_type": "code",
   "execution_count": 106,
   "id": "b2a78c91",
   "metadata": {},
   "outputs": [
    {
     "name": "stdout",
     "output_type": "stream",
     "text": [
      "<class 'pandas.core.series.Series'>\n",
      "RangeIndex: 10000 entries, 0 to 9999\n",
      "Series name: Bandwidth_GB_Year\n",
      "Non-Null Count  Dtype  \n",
      "--------------  -----  \n",
      "10000 non-null  float64\n",
      "dtypes: float64(1)\n",
      "memory usage: 78.3 KB\n",
      "None\n"
     ]
    },
    {
     "data": {
      "text/plain": [
       "count    10000.000000\n",
       "mean      3398.842752\n",
       "std       2072.712613\n",
       "min        155.506715\n",
       "25%       1312.130487\n",
       "50%       3398.842752\n",
       "75%       5466.284500\n",
       "max       7158.982000\n",
       "Name: Bandwidth_GB_Year, dtype: float64"
      ]
     },
     "execution_count": 106,
     "metadata": {},
     "output_type": "execute_result"
    }
   ],
   "source": [
    "#Imputing mean for Bandwidth column and checking that it worked, as well as looking at statistical impact\n",
    "\n",
    "churn['Bandwidth_GB_Year'].fillna(3398.842752, inplace = True)\n",
    "print (churn['Bandwidth_GB_Year'].info())\n",
    "churn['Bandwidth_GB_Year'].describe()"
   ]
  },
  {
   "cell_type": "code",
   "execution_count": 108,
   "id": "171900b0",
   "metadata": {},
   "outputs": [
    {
     "name": "stdout",
     "output_type": "stream",
     "text": [
      "<class 'pandas.core.series.Series'>\n",
      "RangeIndex: 10000 entries, 0 to 9999\n",
      "Series name: Techie\n",
      "Non-Null Count  Dtype \n",
      "--------------  ----- \n",
      "10000 non-null  object\n",
      "dtypes: object(1)\n",
      "memory usage: 78.3+ KB\n",
      "None\n"
     ]
    }
   ],
   "source": [
    "#impute No's for Techie and then check that nulls have been remedied\n",
    "\n",
    "churn[\"Techie\"].fillna(\"No\", inplace = True)\n",
    "print (churn['Techie'].info())"
   ]
  },
  {
   "cell_type": "code",
   "execution_count": 109,
   "id": "0f4edb4d",
   "metadata": {},
   "outputs": [
    {
     "name": "stdout",
     "output_type": "stream",
     "text": [
      "<class 'pandas.core.series.Series'>\n",
      "RangeIndex: 10000 entries, 0 to 9999\n",
      "Series name: Phone\n",
      "Non-Null Count  Dtype \n",
      "--------------  ----- \n",
      "10000 non-null  object\n",
      "dtypes: object(1)\n",
      "memory usage: 78.3+ KB\n",
      "None\n"
     ]
    }
   ],
   "source": [
    "#impute No's for Phone and then check that nulls have been remedied\n",
    "\n",
    "churn[\"Phone\"].fillna(\"No\", inplace = True)\n",
    "\n",
    "print (churn['Phone'].info())"
   ]
  },
  {
   "cell_type": "code",
   "execution_count": 110,
   "id": "69d7520f",
   "metadata": {},
   "outputs": [
    {
     "name": "stdout",
     "output_type": "stream",
     "text": [
      "<class 'pandas.core.series.Series'>\n",
      "RangeIndex: 10000 entries, 0 to 9999\n",
      "Series name: Tenure\n",
      "Non-Null Count  Dtype  \n",
      "--------------  -----  \n",
      "10000 non-null  float64\n",
      "dtypes: float64(1)\n",
      "memory usage: 78.3 KB\n",
      "None\n"
     ]
    }
   ],
   "source": [
    "#impute Median for Tenure nulls and then check that nulls have been remedied\n",
    "\n",
    "churn['Tenure'].fillna(36.196030, inplace = True)\n",
    "churn['Tenure']=churn['Tenure'].astype('float64')\n",
    "print(churn['Tenure'].info())"
   ]
  },
  {
   "cell_type": "code",
   "execution_count": 111,
   "id": "98bf9889",
   "metadata": {},
   "outputs": [
    {
     "data": {
      "text/plain": [
       "count    9989.000000\n",
       "mean       11.466205\n",
       "std         7.018413\n",
       "min         0.113821\n",
       "25%         8.064574\n",
       "50%        10.208720\n",
       "75%        12.491290\n",
       "max        47.049280\n",
       "Name: Outage_sec_perweek, dtype: float64"
      ]
     },
     "execution_count": 111,
     "metadata": {},
     "output_type": "execute_result"
    }
   ],
   "source": [
    "#Drop negative values from this column (to exclude)\n",
    "\n",
    "churn.drop(churn[churn['Outage_sec_perweek'] < 0].index, inplace = True)\n",
    "churn['Outage_sec_perweek'].describe()"
   ]
  },
  {
   "cell_type": "code",
   "execution_count": 114,
   "id": "2ebff610",
   "metadata": {},
   "outputs": [],
   "source": [
    "#Download csv for excluded values\n",
    "neg_outage.to_csv(r'C:\\Users\\abram\\Downloads\\outage_excluded_values.csv',encoding='utf-8')"
   ]
  },
  {
   "cell_type": "code",
   "execution_count": 112,
   "id": "d67137ee",
   "metadata": {},
   "outputs": [
    {
     "data": {
      "text/plain": [
       "count    11.000000\n",
       "mean     -0.578914\n",
       "std       0.451739\n",
       "min      -1.348571\n",
       "25%      -0.943524\n",
       "50%      -0.352431\n",
       "75%      -0.210237\n",
       "max      -0.144644\n",
       "Name: Outage_sec_perweek, dtype: float64"
      ]
     },
     "execution_count": 112,
     "metadata": {},
     "output_type": "execute_result"
    }
   ],
   "source": [
    "\n",
    "\n",
    "neg_outage['Outage_sec_perweek'].describe()"
   ]
  },
  {
   "cell_type": "code",
   "execution_count": 113,
   "id": "4349697d",
   "metadata": {},
   "outputs": [
    {
     "name": "stdout",
     "output_type": "stream",
     "text": [
      "      index  Unnamed: 0  CaseOrder Customer_id  \\\n",
      "0         0           1          1     K409198   \n",
      "1         1           2          2     S120509   \n",
      "2         2           3          3     K191035   \n",
      "3         3           4          4      D90850   \n",
      "4         4           5          5     K662701   \n",
      "...     ...         ...        ...         ...   \n",
      "9984   9995        9996       9996     M324793   \n",
      "9985   9996        9997       9997     D861732   \n",
      "9986   9997        9998       9998     I243405   \n",
      "9987   9998        9999       9999     I641617   \n",
      "9988   9999       10000      10000      T38070   \n",
      "\n",
      "                               Interaction          City State    Zip  \\\n",
      "0     aa90260b-4141-4a24-8e36-b04ce1f4f77b   Point Baker    AK  99927   \n",
      "1     fb76459f-c047-4a9d-8af9-e0f7d4ac2524   West Branch    MI  48661   \n",
      "2     344d114c-3736-4be5-98f7-c72c281e2d35       Yamhill    OR  97148   \n",
      "3     abfa2b40-2d43-4994-b15a-989b8c79e311       Del Mar    CA  92014   \n",
      "4     68a861fd-0d20-4e51-a587-8a90407ee574     Needville    TX  77461   \n",
      "...                                    ...           ...   ...    ...   \n",
      "9984  45deb5a2-ae04-4518-bf0b-c82db8dbe4a4   Mount Holly    VT   5758   \n",
      "9985  6e96b921-0c09-4993-bbda-a1ac6411061a   Clarksville    TN  37042   \n",
      "9986  e8307ddf-9a01-4fff-bc59-4742e03fd24f      Mobeetie    TX  79061   \n",
      "9987  3775ccfc-0052-4107-81ae-9657f81ecdf3    Carrollton    GA  30117   \n",
      "9988  9de5fb6e-bd33-4995-aec8-f01d0172a499  Clarkesville    GA  30523   \n",
      "\n",
      "           Lat        Lng  ...  MonthlyCharge Bandwidth_GB_Year item1 item2  \\\n",
      "0     56.25100 -133.37571  ...         171.45        904.536110     5     5   \n",
      "1     44.32893  -84.24080  ...         242.95        800.982766     3     4   \n",
      "2     45.35589 -123.24657  ...         159.44       2054.706961     4     4   \n",
      "3     32.96687 -117.24798  ...         120.25       2164.579412     4     4   \n",
      "4     29.38012  -95.80673  ...         150.76        271.493436     4     4   \n",
      "...        ...        ...  ...            ...               ...   ...   ...   \n",
      "9984  43.43391  -72.78734  ...         159.83       6511.253000     3     2   \n",
      "9985  36.56907  -87.41694  ...         208.86       5695.952000     4     5   \n",
      "9986  35.52039 -100.44180  ...         168.22       4159.306000     4     4   \n",
      "9987  33.58016  -85.13241  ...         252.63       6468.457000     4     4   \n",
      "9988  34.70783  -83.53648  ...         218.37       5857.586000     2     2   \n",
      "\n",
      "      item3  item4 item5 item6  item7 item8  \n",
      "0         5      3     4     4      3     4  \n",
      "1         3      3     4     3      4     4  \n",
      "2         2      4     4     3      3     3  \n",
      "3         4      2     5     4      3     3  \n",
      "4         4      3     4     4      4     5  \n",
      "...     ...    ...   ...   ...    ...   ...  \n",
      "9984      3      3     4     3      2     3  \n",
      "9985      5      4     4     5      2     5  \n",
      "9986      4      4     4     4      4     5  \n",
      "9987      6      4     3     3      5     4  \n",
      "9988      3      3     3     3      4     1  \n",
      "\n",
      "[9989 rows x 52 columns]\n"
     ]
    }
   ],
   "source": [
    "#reindex after dropping values\n",
    "churn = churn.reset_index()\n",
    "\n",
    "#check that it worked\n",
    "print(churn)"
   ]
  },
  {
   "cell_type": "code",
   "execution_count": 115,
   "id": "92bf97a7",
   "metadata": {},
   "outputs": [],
   "source": [
    "#Download churn clean data\n",
    "\n",
    "clean_churn=churn\n",
    "\n",
    "clean_churn.to_csv(r'C:\\Users\\abram\\Downloads\\cleaned_churn.csv',encoding='utf-8')"
   ]
  },
  {
   "cell_type": "markdown",
   "id": "69f21cf9",
   "metadata": {},
   "source": [
    "# Primary Component Analysis"
   ]
  },
  {
   "cell_type": "code",
   "execution_count": 116,
   "id": "3d652a41",
   "metadata": {},
   "outputs": [],
   "source": [
    "from sklearn.decomposition import PCA"
   ]
  },
  {
   "cell_type": "code",
   "execution_count": null,
   "id": "238d020d",
   "metadata": {},
   "outputs": [],
   "source": [
    "churn_pca=churn[['Children','Age','Income','Outage_sec_perweek', 'Email', 'Contacts', 'Yearly_equip_failure', 'Tenure', 'MonthlyCharge', 'Bandwidth_GB_Year','item1','item2', 'item3','item4','item5','item6', 'item7','item8']]"
   ]
  },
  {
   "cell_type": "code",
   "execution_count": 117,
   "id": "346fe368",
   "metadata": {},
   "outputs": [],
   "source": [
    "#scaling\n",
    "\n",
    "churn_pca_normalized= (churn_pca-churn_pca.mean())/churn_pca.std()"
   ]
  },
  {
   "cell_type": "code",
   "execution_count": 118,
   "id": "d55de6e7",
   "metadata": {},
   "outputs": [],
   "source": [
    "#continuing normalization\n",
    "\n",
    "pca=PCA(n_components=churn_pca.shape[1])\n",
    "pca.fit(churn_pca_normalized)\n",
    "PCA(n_components=18)\n",
    "churn_pca2=pd.DataFrame(pca.transform(churn_pca_normalized), columns=['PC1','PC2','PC3','PC4','PC5','PC6','PC7','PC8','PC9','PC10','PC11','PC12','PC13','PC14','PC15','PC16','PC17','PC18'])"
   ]
  },
  {
   "cell_type": "code",
   "execution_count": 119,
   "id": "54f4addb",
   "metadata": {},
   "outputs": [
    {
     "data": {
      "text/html": [
       "<div>\n",
       "<style scoped>\n",
       "    .dataframe tbody tr th:only-of-type {\n",
       "        vertical-align: middle;\n",
       "    }\n",
       "\n",
       "    .dataframe tbody tr th {\n",
       "        vertical-align: top;\n",
       "    }\n",
       "\n",
       "    .dataframe thead th {\n",
       "        text-align: right;\n",
       "    }\n",
       "</style>\n",
       "<table border=\"1\" class=\"dataframe\">\n",
       "  <thead>\n",
       "    <tr style=\"text-align: right;\">\n",
       "      <th></th>\n",
       "      <th>PC1</th>\n",
       "      <th>PC2</th>\n",
       "      <th>PC3</th>\n",
       "      <th>PC4</th>\n",
       "      <th>PC5</th>\n",
       "      <th>PC6</th>\n",
       "      <th>PC7</th>\n",
       "      <th>PC8</th>\n",
       "      <th>PC9</th>\n",
       "      <th>PC10</th>\n",
       "      <th>PC11</th>\n",
       "      <th>PC12</th>\n",
       "      <th>PC13</th>\n",
       "      <th>PC14</th>\n",
       "      <th>PC15</th>\n",
       "      <th>PC16</th>\n",
       "      <th>PC17</th>\n",
       "      <th>PC18</th>\n",
       "    </tr>\n",
       "  </thead>\n",
       "  <tbody>\n",
       "    <tr>\n",
       "      <th>Children</th>\n",
       "      <td>-0.000127</td>\n",
       "      <td>-0.003707</td>\n",
       "      <td>0.009650</td>\n",
       "      <td>0.048254</td>\n",
       "      <td>0.580479</td>\n",
       "      <td>-0.067575</td>\n",
       "      <td>0.104545</td>\n",
       "      <td>0.542321</td>\n",
       "      <td>0.126774</td>\n",
       "      <td>-0.575421</td>\n",
       "      <td>0.021837</td>\n",
       "      <td>0.031166</td>\n",
       "      <td>-0.037919</td>\n",
       "      <td>-0.017182</td>\n",
       "      <td>0.010657</td>\n",
       "      <td>0.013142</td>\n",
       "      <td>-0.010414</td>\n",
       "      <td>-0.015629</td>\n",
       "    </tr>\n",
       "    <tr>\n",
       "      <th>Age</th>\n",
       "      <td>0.004819</td>\n",
       "      <td>-0.014031</td>\n",
       "      <td>-0.015891</td>\n",
       "      <td>-0.049796</td>\n",
       "      <td>-0.429316</td>\n",
       "      <td>0.493176</td>\n",
       "      <td>-0.103378</td>\n",
       "      <td>0.354325</td>\n",
       "      <td>-0.567591</td>\n",
       "      <td>-0.305942</td>\n",
       "      <td>0.112248</td>\n",
       "      <td>-0.062008</td>\n",
       "      <td>0.010643</td>\n",
       "      <td>-0.001526</td>\n",
       "      <td>-0.013298</td>\n",
       "      <td>0.007930</td>\n",
       "      <td>0.015786</td>\n",
       "      <td>0.021703</td>\n",
       "    </tr>\n",
       "    <tr>\n",
       "      <th>Income</th>\n",
       "      <td>-0.000252</td>\n",
       "      <td>0.008190</td>\n",
       "      <td>0.022572</td>\n",
       "      <td>0.001571</td>\n",
       "      <td>0.264997</td>\n",
       "      <td>0.325925</td>\n",
       "      <td>0.764316</td>\n",
       "      <td>0.093206</td>\n",
       "      <td>-0.234880</td>\n",
       "      <td>0.406674</td>\n",
       "      <td>-0.073221</td>\n",
       "      <td>0.010925</td>\n",
       "      <td>-0.062010</td>\n",
       "      <td>-0.004610</td>\n",
       "      <td>-0.000687</td>\n",
       "      <td>0.013340</td>\n",
       "      <td>0.004925</td>\n",
       "      <td>0.001355</td>\n",
       "    </tr>\n",
       "    <tr>\n",
       "      <th>Outage_sec_perweek</th>\n",
       "      <td>-0.013721</td>\n",
       "      <td>0.017600</td>\n",
       "      <td>-0.048291</td>\n",
       "      <td>0.704053</td>\n",
       "      <td>0.023401</td>\n",
       "      <td>0.017670</td>\n",
       "      <td>0.017458</td>\n",
       "      <td>-0.023752</td>\n",
       "      <td>0.022932</td>\n",
       "      <td>0.085025</td>\n",
       "      <td>0.691285</td>\n",
       "      <td>-0.115187</td>\n",
       "      <td>0.012543</td>\n",
       "      <td>-0.013659</td>\n",
       "      <td>-0.019075</td>\n",
       "      <td>0.011264</td>\n",
       "      <td>-0.004090</td>\n",
       "      <td>0.000749</td>\n",
       "    </tr>\n",
       "    <tr>\n",
       "      <th>Email</th>\n",
       "      <td>0.008571</td>\n",
       "      <td>-0.021745</td>\n",
       "      <td>-0.005390</td>\n",
       "      <td>0.055145</td>\n",
       "      <td>-0.266641</td>\n",
       "      <td>-0.570920</td>\n",
       "      <td>0.004237</td>\n",
       "      <td>0.650859</td>\n",
       "      <td>-0.120585</td>\n",
       "      <td>0.393212</td>\n",
       "      <td>-0.043807</td>\n",
       "      <td>0.060505</td>\n",
       "      <td>-0.017546</td>\n",
       "      <td>-0.017449</td>\n",
       "      <td>0.005961</td>\n",
       "      <td>-0.017028</td>\n",
       "      <td>0.000838</td>\n",
       "      <td>0.005244</td>\n",
       "    </tr>\n",
       "    <tr>\n",
       "      <th>Contacts</th>\n",
       "      <td>-0.008418</td>\n",
       "      <td>0.004163</td>\n",
       "      <td>-0.010439</td>\n",
       "      <td>-0.014035</td>\n",
       "      <td>-0.474543</td>\n",
       "      <td>0.285543</td>\n",
       "      <td>0.278978</td>\n",
       "      <td>0.234513</td>\n",
       "      <td>0.742115</td>\n",
       "      <td>-0.073328</td>\n",
       "      <td>0.013230</td>\n",
       "      <td>0.037428</td>\n",
       "      <td>-0.035742</td>\n",
       "      <td>-0.004163</td>\n",
       "      <td>-0.025702</td>\n",
       "      <td>0.020087</td>\n",
       "      <td>-0.001396</td>\n",
       "      <td>-0.002632</td>\n",
       "    </tr>\n",
       "    <tr>\n",
       "      <th>Yearly_equip_failure</th>\n",
       "      <td>-0.008037</td>\n",
       "      <td>0.015500</td>\n",
       "      <td>0.007812</td>\n",
       "      <td>0.060940</td>\n",
       "      <td>0.311610</td>\n",
       "      <td>0.483975</td>\n",
       "      <td>-0.557386</td>\n",
       "      <td>0.289131</td>\n",
       "      <td>0.179426</td>\n",
       "      <td>0.471118</td>\n",
       "      <td>-0.120735</td>\n",
       "      <td>0.028775</td>\n",
       "      <td>0.004927</td>\n",
       "      <td>-0.015100</td>\n",
       "      <td>-0.000831</td>\n",
       "      <td>0.007095</td>\n",
       "      <td>-0.021273</td>\n",
       "      <td>-0.002451</td>\n",
       "    </tr>\n",
       "    <tr>\n",
       "      <th>Tenure</th>\n",
       "      <td>-0.011210</td>\n",
       "      <td>0.700775</td>\n",
       "      <td>-0.073950</td>\n",
       "      <td>-0.058628</td>\n",
       "      <td>-0.014727</td>\n",
       "      <td>-0.009226</td>\n",
       "      <td>-0.003095</td>\n",
       "      <td>0.015077</td>\n",
       "      <td>-0.019370</td>\n",
       "      <td>0.005870</td>\n",
       "      <td>0.038543</td>\n",
       "      <td>0.000802</td>\n",
       "      <td>-0.010181</td>\n",
       "      <td>0.007334</td>\n",
       "      <td>-0.012352</td>\n",
       "      <td>0.006637</td>\n",
       "      <td>0.005449</td>\n",
       "      <td>-0.705028</td>\n",
       "    </tr>\n",
       "    <tr>\n",
       "      <th>MonthlyCharge</th>\n",
       "      <td>-0.000447</td>\n",
       "      <td>0.043719</td>\n",
       "      <td>-0.025452</td>\n",
       "      <td>0.695544</td>\n",
       "      <td>-0.109385</td>\n",
       "      <td>0.025743</td>\n",
       "      <td>0.022401</td>\n",
       "      <td>-0.056418</td>\n",
       "      <td>-0.062197</td>\n",
       "      <td>-0.140181</td>\n",
       "      <td>-0.684463</td>\n",
       "      <td>0.046301</td>\n",
       "      <td>0.009327</td>\n",
       "      <td>-0.012963</td>\n",
       "      <td>0.002274</td>\n",
       "      <td>0.021212</td>\n",
       "      <td>-0.013077</td>\n",
       "      <td>-0.048098</td>\n",
       "    </tr>\n",
       "    <tr>\n",
       "      <th>Bandwidth_GB_Year</th>\n",
       "      <td>-0.013063</td>\n",
       "      <td>0.702463</td>\n",
       "      <td>-0.076288</td>\n",
       "      <td>-0.009126</td>\n",
       "      <td>0.004720</td>\n",
       "      <td>-0.016756</td>\n",
       "      <td>0.002534</td>\n",
       "      <td>0.009476</td>\n",
       "      <td>0.001611</td>\n",
       "      <td>-0.009635</td>\n",
       "      <td>-0.011060</td>\n",
       "      <td>0.012461</td>\n",
       "      <td>0.002387</td>\n",
       "      <td>0.003434</td>\n",
       "      <td>-0.001816</td>\n",
       "      <td>-0.008105</td>\n",
       "      <td>0.006837</td>\n",
       "      <td>0.706800</td>\n",
       "    </tr>\n",
       "    <tr>\n",
       "      <th>item1</th>\n",
       "      <td>0.458879</td>\n",
       "      <td>0.033424</td>\n",
       "      <td>0.279759</td>\n",
       "      <td>0.032113</td>\n",
       "      <td>0.004503</td>\n",
       "      <td>0.007410</td>\n",
       "      <td>-0.016922</td>\n",
       "      <td>0.001546</td>\n",
       "      <td>0.022012</td>\n",
       "      <td>-0.000271</td>\n",
       "      <td>-0.006864</td>\n",
       "      <td>-0.071211</td>\n",
       "      <td>-0.118037</td>\n",
       "      <td>-0.047857</td>\n",
       "      <td>0.023713</td>\n",
       "      <td>-0.240686</td>\n",
       "      <td>0.792672</td>\n",
       "      <td>-0.002584</td>\n",
       "    </tr>\n",
       "    <tr>\n",
       "      <th>item2</th>\n",
       "      <td>0.434124</td>\n",
       "      <td>0.044460</td>\n",
       "      <td>0.281428</td>\n",
       "      <td>0.018459</td>\n",
       "      <td>-0.018737</td>\n",
       "      <td>0.013232</td>\n",
       "      <td>0.001676</td>\n",
       "      <td>-0.003254</td>\n",
       "      <td>0.005631</td>\n",
       "      <td>-0.010734</td>\n",
       "      <td>0.000883</td>\n",
       "      <td>-0.111626</td>\n",
       "      <td>-0.168812</td>\n",
       "      <td>-0.067008</td>\n",
       "      <td>0.068298</td>\n",
       "      <td>-0.591214</td>\n",
       "      <td>-0.574171</td>\n",
       "      <td>-0.003405</td>\n",
       "    </tr>\n",
       "    <tr>\n",
       "      <th>item3</th>\n",
       "      <td>0.400831</td>\n",
       "      <td>0.035725</td>\n",
       "      <td>0.280308</td>\n",
       "      <td>-0.011514</td>\n",
       "      <td>-0.006979</td>\n",
       "      <td>-0.033098</td>\n",
       "      <td>-0.026223</td>\n",
       "      <td>-0.010619</td>\n",
       "      <td>-0.005744</td>\n",
       "      <td>0.005858</td>\n",
       "      <td>-0.011513</td>\n",
       "      <td>-0.176737</td>\n",
       "      <td>-0.248725</td>\n",
       "      <td>-0.143939</td>\n",
       "      <td>-0.393574</td>\n",
       "      <td>0.676074</td>\n",
       "      <td>-0.176641</td>\n",
       "      <td>0.014525</td>\n",
       "    </tr>\n",
       "    <tr>\n",
       "      <th>item4</th>\n",
       "      <td>0.145619</td>\n",
       "      <td>-0.052193</td>\n",
       "      <td>-0.566904</td>\n",
       "      <td>-0.032730</td>\n",
       "      <td>-0.002192</td>\n",
       "      <td>-0.003266</td>\n",
       "      <td>-0.021299</td>\n",
       "      <td>-0.023097</td>\n",
       "      <td>0.005510</td>\n",
       "      <td>0.005680</td>\n",
       "      <td>-0.022392</td>\n",
       "      <td>-0.178780</td>\n",
       "      <td>-0.478845</td>\n",
       "      <td>-0.445975</td>\n",
       "      <td>0.429241</td>\n",
       "      <td>0.085717</td>\n",
       "      <td>0.017496</td>\n",
       "      <td>0.001844</td>\n",
       "    </tr>\n",
       "    <tr>\n",
       "      <th>item5</th>\n",
       "      <td>-0.175533</td>\n",
       "      <td>0.068456</td>\n",
       "      <td>0.586037</td>\n",
       "      <td>0.025503</td>\n",
       "      <td>-0.037189</td>\n",
       "      <td>0.008496</td>\n",
       "      <td>-0.003505</td>\n",
       "      <td>-0.009834</td>\n",
       "      <td>-0.005807</td>\n",
       "      <td>-0.007355</td>\n",
       "      <td>0.042617</td>\n",
       "      <td>0.129725</td>\n",
       "      <td>0.058720</td>\n",
       "      <td>-0.212329</td>\n",
       "      <td>0.693795</td>\n",
       "      <td>0.261603</td>\n",
       "      <td>-0.042283</td>\n",
       "      <td>-0.002786</td>\n",
       "    </tr>\n",
       "    <tr>\n",
       "      <th>item6</th>\n",
       "      <td>0.405053</td>\n",
       "      <td>-0.012400</td>\n",
       "      <td>-0.183487</td>\n",
       "      <td>0.006542</td>\n",
       "      <td>0.004265</td>\n",
       "      <td>0.004015</td>\n",
       "      <td>0.005102</td>\n",
       "      <td>0.022944</td>\n",
       "      <td>0.013329</td>\n",
       "      <td>0.010772</td>\n",
       "      <td>-0.001247</td>\n",
       "      <td>-0.058792</td>\n",
       "      <td>0.060901</td>\n",
       "      <td>0.756759</td>\n",
       "      <td>0.407549</td>\n",
       "      <td>0.226180</td>\n",
       "      <td>-0.063879</td>\n",
       "      <td>0.001340</td>\n",
       "    </tr>\n",
       "    <tr>\n",
       "      <th>item7</th>\n",
       "      <td>0.358082</td>\n",
       "      <td>-0.004017</td>\n",
       "      <td>-0.180369</td>\n",
       "      <td>-0.032394</td>\n",
       "      <td>0.020668</td>\n",
       "      <td>0.003816</td>\n",
       "      <td>0.056985</td>\n",
       "      <td>0.032008</td>\n",
       "      <td>0.028580</td>\n",
       "      <td>0.013135</td>\n",
       "      <td>-0.025579</td>\n",
       "      <td>-0.167843</td>\n",
       "      <td>0.807119</td>\n",
       "      <td>-0.375830</td>\n",
       "      <td>0.068462</td>\n",
       "      <td>0.067174</td>\n",
       "      <td>-0.041419</td>\n",
       "      <td>-0.006838</td>\n",
       "    </tr>\n",
       "    <tr>\n",
       "      <th>item8</th>\n",
       "      <td>0.308669</td>\n",
       "      <td>-0.016759</td>\n",
       "      <td>-0.132735</td>\n",
       "      <td>0.030449</td>\n",
       "      <td>-0.010685</td>\n",
       "      <td>0.038589</td>\n",
       "      <td>-0.011834</td>\n",
       "      <td>-0.055437</td>\n",
       "      <td>-0.052459</td>\n",
       "      <td>-0.020740</td>\n",
       "      <td>0.117324</td>\n",
       "      <td>0.918924</td>\n",
       "      <td>-0.021346</td>\n",
       "      <td>-0.115339</td>\n",
       "      <td>-0.044456</td>\n",
       "      <td>0.046506</td>\n",
       "      <td>-0.042496</td>\n",
       "      <td>-0.002866</td>\n",
       "    </tr>\n",
       "  </tbody>\n",
       "</table>\n",
       "</div>"
      ],
      "text/plain": [
       "                           PC1       PC2       PC3       PC4       PC5  \\\n",
       "Children             -0.000127 -0.003707  0.009650  0.048254  0.580479   \n",
       "Age                   0.004819 -0.014031 -0.015891 -0.049796 -0.429316   \n",
       "Income               -0.000252  0.008190  0.022572  0.001571  0.264997   \n",
       "Outage_sec_perweek   -0.013721  0.017600 -0.048291  0.704053  0.023401   \n",
       "Email                 0.008571 -0.021745 -0.005390  0.055145 -0.266641   \n",
       "Contacts             -0.008418  0.004163 -0.010439 -0.014035 -0.474543   \n",
       "Yearly_equip_failure -0.008037  0.015500  0.007812  0.060940  0.311610   \n",
       "Tenure               -0.011210  0.700775 -0.073950 -0.058628 -0.014727   \n",
       "MonthlyCharge        -0.000447  0.043719 -0.025452  0.695544 -0.109385   \n",
       "Bandwidth_GB_Year    -0.013063  0.702463 -0.076288 -0.009126  0.004720   \n",
       "item1                 0.458879  0.033424  0.279759  0.032113  0.004503   \n",
       "item2                 0.434124  0.044460  0.281428  0.018459 -0.018737   \n",
       "item3                 0.400831  0.035725  0.280308 -0.011514 -0.006979   \n",
       "item4                 0.145619 -0.052193 -0.566904 -0.032730 -0.002192   \n",
       "item5                -0.175533  0.068456  0.586037  0.025503 -0.037189   \n",
       "item6                 0.405053 -0.012400 -0.183487  0.006542  0.004265   \n",
       "item7                 0.358082 -0.004017 -0.180369 -0.032394  0.020668   \n",
       "item8                 0.308669 -0.016759 -0.132735  0.030449 -0.010685   \n",
       "\n",
       "                           PC6       PC7       PC8       PC9      PC10  \\\n",
       "Children             -0.067575  0.104545  0.542321  0.126774 -0.575421   \n",
       "Age                   0.493176 -0.103378  0.354325 -0.567591 -0.305942   \n",
       "Income                0.325925  0.764316  0.093206 -0.234880  0.406674   \n",
       "Outage_sec_perweek    0.017670  0.017458 -0.023752  0.022932  0.085025   \n",
       "Email                -0.570920  0.004237  0.650859 -0.120585  0.393212   \n",
       "Contacts              0.285543  0.278978  0.234513  0.742115 -0.073328   \n",
       "Yearly_equip_failure  0.483975 -0.557386  0.289131  0.179426  0.471118   \n",
       "Tenure               -0.009226 -0.003095  0.015077 -0.019370  0.005870   \n",
       "MonthlyCharge         0.025743  0.022401 -0.056418 -0.062197 -0.140181   \n",
       "Bandwidth_GB_Year    -0.016756  0.002534  0.009476  0.001611 -0.009635   \n",
       "item1                 0.007410 -0.016922  0.001546  0.022012 -0.000271   \n",
       "item2                 0.013232  0.001676 -0.003254  0.005631 -0.010734   \n",
       "item3                -0.033098 -0.026223 -0.010619 -0.005744  0.005858   \n",
       "item4                -0.003266 -0.021299 -0.023097  0.005510  0.005680   \n",
       "item5                 0.008496 -0.003505 -0.009834 -0.005807 -0.007355   \n",
       "item6                 0.004015  0.005102  0.022944  0.013329  0.010772   \n",
       "item7                 0.003816  0.056985  0.032008  0.028580  0.013135   \n",
       "item8                 0.038589 -0.011834 -0.055437 -0.052459 -0.020740   \n",
       "\n",
       "                          PC11      PC12      PC13      PC14      PC15  \\\n",
       "Children              0.021837  0.031166 -0.037919 -0.017182  0.010657   \n",
       "Age                   0.112248 -0.062008  0.010643 -0.001526 -0.013298   \n",
       "Income               -0.073221  0.010925 -0.062010 -0.004610 -0.000687   \n",
       "Outage_sec_perweek    0.691285 -0.115187  0.012543 -0.013659 -0.019075   \n",
       "Email                -0.043807  0.060505 -0.017546 -0.017449  0.005961   \n",
       "Contacts              0.013230  0.037428 -0.035742 -0.004163 -0.025702   \n",
       "Yearly_equip_failure -0.120735  0.028775  0.004927 -0.015100 -0.000831   \n",
       "Tenure                0.038543  0.000802 -0.010181  0.007334 -0.012352   \n",
       "MonthlyCharge        -0.684463  0.046301  0.009327 -0.012963  0.002274   \n",
       "Bandwidth_GB_Year    -0.011060  0.012461  0.002387  0.003434 -0.001816   \n",
       "item1                -0.006864 -0.071211 -0.118037 -0.047857  0.023713   \n",
       "item2                 0.000883 -0.111626 -0.168812 -0.067008  0.068298   \n",
       "item3                -0.011513 -0.176737 -0.248725 -0.143939 -0.393574   \n",
       "item4                -0.022392 -0.178780 -0.478845 -0.445975  0.429241   \n",
       "item5                 0.042617  0.129725  0.058720 -0.212329  0.693795   \n",
       "item6                -0.001247 -0.058792  0.060901  0.756759  0.407549   \n",
       "item7                -0.025579 -0.167843  0.807119 -0.375830  0.068462   \n",
       "item8                 0.117324  0.918924 -0.021346 -0.115339 -0.044456   \n",
       "\n",
       "                          PC16      PC17      PC18  \n",
       "Children              0.013142 -0.010414 -0.015629  \n",
       "Age                   0.007930  0.015786  0.021703  \n",
       "Income                0.013340  0.004925  0.001355  \n",
       "Outage_sec_perweek    0.011264 -0.004090  0.000749  \n",
       "Email                -0.017028  0.000838  0.005244  \n",
       "Contacts              0.020087 -0.001396 -0.002632  \n",
       "Yearly_equip_failure  0.007095 -0.021273 -0.002451  \n",
       "Tenure                0.006637  0.005449 -0.705028  \n",
       "MonthlyCharge         0.021212 -0.013077 -0.048098  \n",
       "Bandwidth_GB_Year    -0.008105  0.006837  0.706800  \n",
       "item1                -0.240686  0.792672 -0.002584  \n",
       "item2                -0.591214 -0.574171 -0.003405  \n",
       "item3                 0.676074 -0.176641  0.014525  \n",
       "item4                 0.085717  0.017496  0.001844  \n",
       "item5                 0.261603 -0.042283 -0.002786  \n",
       "item6                 0.226180 -0.063879  0.001340  \n",
       "item7                 0.067174 -0.041419 -0.006838  \n",
       "item8                 0.046506 -0.042496 -0.002866  "
      ]
     },
     "execution_count": 119,
     "metadata": {},
     "output_type": "execute_result"
    }
   ],
   "source": [
    "#Loadings\n",
    "\n",
    "loadings=pd.DataFrame(pca.components_.T,columns=['PC1','PC2','PC3','PC4','PC5','PC6','PC7','PC8','PC9','PC10','PC11','PC12','PC13','PC14','PC15','PC16','PC17','PC18'], index=churn_pca_normalized.columns)\n",
    "\n",
    "loadings"
   ]
  },
  {
   "cell_type": "code",
   "execution_count": 120,
   "id": "efc7a950",
   "metadata": {},
   "outputs": [
    {
     "data": {
      "image/png": "[encoded data removed]",
      "text/plain": [
       "<Figure size 640x480 with 1 Axes>"
      ]
     },
     "metadata": {},
     "output_type": "display_data"
    }
   ],
   "source": [
    "#Scree plot of eigenvalues\n",
    "\n",
    "cov_matrix=np.dot(churn_pca_normalized.T, churn_pca_normalized)/churn_pca.shape[0]\n",
    "eigenvalues=[np.dot(eigenvector.T, np.dot(cov_matrix, eigenvector))for eigenvector in pca.components_]\n",
    "\n",
    "plt.plot(eigenvalues)\n",
    "plt.xlabel(\"number of components\")\n",
    "plt.ylabel(\"eigenvalues\")\n",
    "plt.axhline(y=1, color=\"red\")\n",
    "plt.show()\n",
    "\n"
   ]
  }
 ],
 "metadata": {
  "kernelspec": {
   "display_name": "Python 3 (ipykernel)",
   "language": "python",
   "name": "python3"
  },
  "language_info": {
   "codemirror_mode": {
    "name": "ipython",
    "version": 3
   },
   "file_extension": ".py",
   "mimetype": "text/x-python",
   "name": "python",
   "nbconvert_exporter": "python",
   "pygments_lexer": "ipython3",
   "version": "3.11.3"
  }
 },
 "nbformat": 4,
 "nbformat_minor": 5
}
